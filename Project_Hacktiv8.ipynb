{
  "nbformat": 4,
  "nbformat_minor": 0,
  "metadata": {
    "colab": {
      "provenance": []
    },
    "kernelspec": {
      "name": "python3",
      "display_name": "Python 3"
    },
    "language_info": {
      "name": "python"
    }
  },
  "cells": [
    {
      "cell_type": "markdown",
      "source": [],
      "metadata": {
        "id": "wU30UoCGwxmN"
      }
    },
    {
      "cell_type": "code",
      "execution_count": null,
      "metadata": {
        "id": "TAed4cDhtgcj"
      },
      "outputs": [],
      "source": [
        "!pip install langchain_community\n",
        "!pip install replicate"
      ]
    },
    {
      "cell_type": "code",
      "source": [
        "from langchain_community.llms import Replicate\n",
        "import os\n",
        "from google.colab import userdata\n",
        "# Set the API token\n",
        "api_token = userdata.get('api_token')\n",
        "os.environ[\"REPLICATE_API_TOKEN\"] = api_token\n",
        "# Model setup\n",
        "model = \"ibm-granite/granite-3.3-8b-instruct\"\n",
        "output = Replicate(\n",
        "model=model,\n",
        "replicate_api_token=api_token,\n",
        ")"
      ],
      "metadata": {
        "id": "dyYh4D93xQph"
      },
      "execution_count": 3,
      "outputs": []
    },
    {
      "cell_type": "code",
      "source": [
        "import kagglehub\n",
        "\n",
        "# Download latest version\n",
        "path = kagglehub.dataset_download(\"itanium/livin-by-mandiri-app-reviews\")\n",
        "\n",
        "print(\"Path to dataset files:\", path)"
      ],
      "metadata": {
        "colab": {
          "base_uri": "https://localhost:8080/"
        },
        "id": "GXdkvGKkx2gq",
        "outputId": "e4bc1f33-beb1-4951-e2fb-552953e0ec58"
      },
      "execution_count": 6,
      "outputs": [
        {
          "output_type": "stream",
          "name": "stdout",
          "text": [
            "Warning: Looks like you're using an outdated `kagglehub` version (installed: 0.3.12), please consider upgrading to the latest version (0.3.13).\n",
            "Downloading from https://www.kaggle.com/api/v1/datasets/download/itanium/livin-by-mandiri-app-reviews?dataset_version_number=2...\n"
          ]
        },
        {
          "output_type": "stream",
          "name": "stderr",
          "text": [
            "100%|██████████| 4.02M/4.02M [00:00<00:00, 110MB/s]"
          ]
        },
        {
          "output_type": "stream",
          "name": "stdout",
          "text": [
            "Extracting files...\n",
            "Path to dataset files: /root/.cache/kagglehub/datasets/itanium/livin-by-mandiri-app-reviews/versions/2\n"
          ]
        },
        {
          "output_type": "stream",
          "name": "stderr",
          "text": [
            "\n"
          ]
        }
      ]
    },
    {
      "cell_type": "code",
      "source": [
        "# Define refined prompt\n",
        "refined_prompt = f\"\"\"\n",
        "Classify these reviews as positive, negative, or mixed, and tag\n",
        "relevant categories (performance,service,transfer feature or transaction):\n",
        "{\"itanium/livin-by-mandiri-app-reviews\"}\n",
        "\"\"\"\n",
        "# Invoke the model with the example prompt\n",
        "response = output.invoke(refined_prompt)\n",
        "# Print the response\n",
        "print(\"Granite Model Refined Response:\\n\")\n",
        "print(response)"
      ],
      "metadata": {
        "colab": {
          "base_uri": "https://localhost:8080/"
        },
        "id": "39-HYOSo0tgk",
        "outputId": "b488d419-e57a-4597-fb58-055731dbc98c"
      },
      "execution_count": 9,
      "outputs": [
        {
          "output_type": "stream",
          "name": "stdout",
          "text": [
            "Granite Model Refined Response:\n",
            "\n",
            "1. Review: \"The Mandiri Livin app has been a game-changer for my banking needs. The transfer feature is seamless and the service is top-notch. Highly recommended!\"\n",
            "\n",
            "Classification: Positive\n",
            "Tags: transfer feature, service\n",
            "\n",
            "2. Review: \"I'm disappointed with the Mandiri Livin app's performance. It often crashes and the transaction history is not up-to-date. Needs improvement.\"\n",
            "\n",
            "Classification: Negative\n",
            "Tags: performance, transaction\n",
            "\n",
            "3. Review: \"The app is convenient, but the customer service could use some work. Overall, it's a decent banking app.\"\n",
            "\n",
            "Classification: Mixed\n",
            "Tags: service, performance\n",
            "\n",
            "4. Review: \"I love the transfer feature on Mandiri Livin. It's user-friendly and fast. However, I've experienced occasional glitches with transactions.\"\n",
            "\n",
            "Classification: Mixed\n",
            "Tags: transfer feature, transaction\n",
            "\n",
            "5. Review: \"Great app! Easy to navigate and the service is excellent. I appreciate the quick transaction processing.\"\n",
            "\n",
            "Classification: Positive\n",
            "Tags: service, transaction\n",
            "\n",
            "6. Review: \"Mandiri Livin app is quite buggy. The performance is inconsistent, and the service response time is slow. Needs urgent attention.\"\n",
            "\n",
            "Classification: Negative\n",
            "Tags: performance, service\n",
            "\n",
            "7. Review: \"The app is okay for basic transactions, but I'd like more robust features and better service support.\"\n",
            "\n",
            "Classification: Mixed\n",
            "Tags: performance, service\n",
            "\n",
            "8. Review: \"Seamless transfer experience, but the app's performance could be improved. Service is adequate.\"\n",
            "\n",
            "Classification: Mixed\n",
            "Tags: transfer feature, performance, service\n",
            "\n",
            "9. Review: \"Mandiri Livin app is fantastic! Transactions are smooth, and the customer service is responsive and helpful.\"\n",
            "\n",
            "Classification: Positive\n",
            "Tags: transaction, service\n",
            "\n",
            "10. Review: \"I'm not thrilled with the Mandiri Livin app. The transfer feature works, but the overall performance is unreliable, and service is subpar.\"\n",
            "\n",
            "Classification: Negative\n",
            "Tags: transfer feature, performance, service\n"
          ]
        }
      ]
    },
    {
      "cell_type": "code",
      "source": [
        "# Define the prompt to complete the task in 2 steps\n",
        "multitask_prompt = f\"\"\"\n",
        "Complete the task in 2 steps.\n",
        "Step 1: Classify these reviews as positive, negative, or mixed.\n",
        "Step 2: For each review, identify relevant categories: performance,service,transfer feature or transaction.\n",
        "{'itanium/livin-by-mandiri-app-reviews'}\n",
        "\"\"\"\n",
        "response = output.invoke(multitask_prompt)\n",
        "print(\"Granite Model Response:\\n\")\n",
        "print(response)"
      ],
      "metadata": {
        "colab": {
          "base_uri": "https://localhost:8080/"
        },
        "id": "p36mIZ6_1ucm",
        "outputId": "e8ebc989-8e58-426c-c545-ed676e5aacd0"
      },
      "execution_count": 13,
      "outputs": [
        {
          "output_type": "stream",
          "name": "stdout",
          "text": [
            "Granite Model Response:\n",
            "\n",
            "**Step 1: Classification**\n",
            "\n",
            "1. \"The Mandiri app is a game-changer! It's user-friendly, transactions are seamless, and customer service is prompt and helpful. Highly recommend!\"\n",
            "   - Classification: Positive\n",
            "\n",
            "2. \"I've been using the Mandiri app for a while now, and while the performance is decent, the transfer features are quite limited. Customer service could be more responsive.\"\n",
            "   - Classification: Mixed\n",
            "\n",
            "3. \"Terrible experience with the Mandiri app. Frequent glitches during transactions, and the customer service is almost non-existent. Not satisfied at all.\"\n",
            "   - Classification: Negative\n",
            "\n",
            "**Step 2: Identification of Relevant Categories**\n",
            "\n",
            "1. Positive review:\n",
            "   - Performance: Decent\n",
            "   - Transfer feature: Not explicitly mentioned, but implied to function without major issues\n",
            "   - Transaction: Seamless\n",
            "   - Service: Prompt and helpful\n",
            "\n",
            "2. Mixed review:\n",
            "   - Performance: User-friendly, implied to be decent\n",
            "   - Transfer feature: Limited\n",
            "   - Transaction: Not explicitly mentioned, but likely to have some issues due to transfer feature limitations\n",
            "   - Service: Prompt, but not sufficiently helpful\n",
            "\n",
            "3. Negative review:\n",
            "   - Performance: Frequent glitches\n",
            "   - Transfer feature: Not specified, but glitches during transactions suggest issues\n",
            "   - Transaction: Frequent glitches\n",
            "   - Service: Almost non-existent, indicating poor customer service experience\n"
          ]
        }
      ]
    },
    {
      "cell_type": "code",
      "source": [
        "# Define the example to guide the model\n",
        "formatted_prompt = f\"\"\"\n",
        "Classify these reviews as Positive, Negative, or Mixed, and tag\n",
        "relevant categories. Use this format:\n",
        "- Sentiment: [Sentiment]\n",
        "- Categories: [Categories].\n",
        "{'itanium/livin-by-mandiri-app-reviews'}\n",
        "\"\"\"\n",
        "# Invoke the model with prompt\n",
        "response = output.invoke(formatted_prompt)\n",
        "# Print the response\n",
        "print(\"Granite Model Formatted Response:\\n\")\n",
        "print(response)"
      ],
      "metadata": {
        "colab": {
          "base_uri": "https://localhost:8080/"
        },
        "id": "Z8Kl3eiV2T4V",
        "outputId": "8c891b1d-7c88-408e-a149-ed5a13ae003b"
      },
      "execution_count": 14,
      "outputs": [
        {
          "output_type": "stream",
          "name": "stdout",
          "text": [
            "Granite Model Formatted Response:\n",
            "\n",
            "- Sentiment: Positive\n",
            "- Categories: Mobile Banking, User Experience, Convenience, Security\n",
            "\n",
            "Review 1: \"Mandiri's mobile app is a game-changer! It's user-friendly, secure, and lets me manage my finances on the go. Highly recommend!\"\n",
            "\n",
            "Review 2: \"The app is intuitive and easy to navigate. I can check my balance, transfer funds, and pay bills without any hassle. Great job, Mandiri!\"\n",
            "\n",
            "Review 3: \"I love the convenience of Mandiri's app. It keeps me updated on my transactions and alerts me of any suspicious activity. Kudos to the development team!\"\n",
            "\n",
            "Review 4: \"The app is secure and reliable. I trust Mandiri with my finances, knowing that my data is protected. Well done!\"\n",
            "\n",
            "Review 5: \"Excellent app! I can do everything I need from my Mandiri account – deposit checks, set up recurring payments, and even get personalized financial advice. A must-have for any Mandiri customer.\"\n",
            "\n",
            "- Sentiment: Positive\n",
            "- Categories: Mobile Banking, Customer Support, Features\n",
            "\n",
            "Review 6: \"The customer support through the Mandiri app is fantastic! Quick response times and helpful representatives make any issues I've encountered easily resolvable.\"\n",
            "\n",
            "Review 7: \"I appreciate the comprehensive features offered by the Mandiri app. It's not just about basic transactions; it provides valuable financial tools and resources.\"\n",
            "\n",
            "- Sentiment: Mixed\n",
            "- Categories: User Interface, Performance, Additional Features\n",
            "\n",
            "Review 8: \"The Mandiri app's user interface is clean and modern, but sometimes it lags a bit, which can be frustrating. Overall, it's a solid app with room for improvement.\"\n",
            "\n",
            "Review 9: \"I like the core functionalities of the app, but I'd love to see more advanced features, like budgeting tools or investment options, in future updates.\"\n",
            "\n",
            "- Sentiment: Negative\n",
            "- Categories: Performance, Bugs\n",
            "\n",
            "Review 10: \"The Mandiri app frequently crashes, causing me to lose my work. This needs immediate attention from the developers.\"\n",
            "\n",
            "Review 11: \"There are occasional glitches that make it hard to use the app smoothly. Hopefully, these issues will be resolved\n"
          ]
        }
      ]
    },
    {
      "cell_type": "markdown",
      "source": [
        "**LAB 2**"
      ],
      "metadata": {
        "id": "hCTsMfOx3ZII"
      }
    },
    {
      "cell_type": "code",
      "source": [
        "\n",
        "# Refine the prompt to include reviews\n",
        "reviews_text = \"\\n\".join([f\"Review {i+1}: {review}\" for i,\n",
        "review in enumerate('itanium/livin-by-mandiri-app-reviews')])\n",
        "\n",
        "# Set model parameters for prompting with default values\n",
        "parameters = {\n",
        " \"top_k\": 0,\n",
        " \"top_p\": 1.0,\n",
        " \"max_tokens\": 256,\n",
        " \"min_tokens\": 0,\n",
        " \"random_seed\": None,\n",
        " \"repetition_penalty\": 1.0,\n",
        " \"stopping_criteria\": \"length (256 tokens)\",\n",
        " \"stopping_sequence\": None\n",
        "}"
      ],
      "metadata": {
        "id": "BONaYKxc4QbI"
      },
      "execution_count": 23,
      "outputs": []
    },
    {
      "cell_type": "code",
      "source": [
        "# Add initial prompt\n",
        "refined_prompt = f\"\"\":\n",
        "Classify these reviews as positive, negative, or mixed, and tag\n",
        "relevant focus areas such asperformance,service,transfer feature or transaction\n",
        "{'itanium/livin-by-mandiri-app-reviews'}\n",
        "\"\"\"\n",
        "# Invoke the model\n",
        "response = output.invoke(refined_prompt, parameters=parameters)\n",
        "# Print the response\n",
        "print(\"Granite Model Refined Response:\\n\")\n",
        "print(response)"
      ],
      "metadata": {
        "colab": {
          "base_uri": "https://localhost:8080/"
        },
        "id": "R57KbLOb4YQ-",
        "outputId": "b8e4f84e-dfda-4fea-af33-fbb2113a795c"
      },
      "execution_count": 22,
      "outputs": [
        {
          "output_type": "stream",
          "name": "stdout",
          "text": [
            "Granite Model Refined Response:\n",
            "\n",
            "Based on the provided link, I've analyzed the reviews from the Mandiri Livin app on Google Play Store. Here's a classification of some reviews along with their relevant focus areas:\n",
            "\n",
            "1. **Positive Review:**\n",
            "   - User: \"I love using Mandiri Livin. The transaction process is seamless, and the customer service is excellent. I appreciate the transfer feature that allows me to send money easily to my family abroad.\"\n",
            "   - Classification: Positive\n",
            "   - Focus Areas: Transaction, Customer Service, Transfer Feature\n",
            "\n",
            "2. **Negative Review:**\n",
            "   - User: \"The app frequently crashes, and I've experienced several issues with logging in. I'm disappointed with the performance and reliability of Mandiri Livin.\"\n",
            "   - Classification: Negative\n",
            "   - Focus Areas: Performance, Stability, Login/Access\n",
            "\n",
            "3. **Mixed Review:**\n",
            "   - User: \"While I enjoy the convenience of the transfer feature, the service is sometimes slow, and the app's interface could be more user-friendly. Overall, it's okay but needs improvements.\"\n",
            "   - Classification: Mixed\n",
            "   - Focus Areas: Transfer Feature, User Interface, Service Speed\n",
            "\n",
            "4. **Positive Review:**\n",
            "   - User: \"Mandiri Livin has been a game-changer for managing my finances. The app's performance is smooth, and the service is prompt. I especially like the 'Living Expenses' tracking feature.\"\n",
            "   - Classification: Positive\n",
            "   - Focus Areas: Performance, Service, Living Expenses Tracking\n",
            "\n",
            "5. **Negative Review:**\n",
            "   - User: \"I've been trying to use the 'Pay Bills' feature, but it's not working as expected. The customer service response time is also very slow. Very dissatisfied.\"\n",
            "   - Classification: Negative\n",
            "   - Focus Areas: Transaction Feature (Pay Bills), Customer Service Response Time\n",
            "\n",
            "6. **Mixed Review:**\n",
            "   - User: \"The app is generally good for basic banking tasks, but I find the security features lacking. Also, the notifications could be more informative.\"\n",
            "   - Classification: Mixed\n",
            "   - Focus Areas: Security, Notifications\n",
            "\n",
            "Please note that the actual reviews' text might vary slightly from the summarized versions provided here for brevity. Also, the classification and focus areas are based on the information given in the review snippets and might not capture every nuance. For a comprehensive analysis, reviewing the full context and\n"
          ]
        }
      ]
    },
    {
      "cell_type": "code",
      "source": [
        "# Refine top_k model parameter value\n",
        "parameters = {\n",
        "\"top_k\": 5,\n",
        "\"top_p\": 1.0,\n",
        "\"max_tokens\": 256,\n",
        "\"min_tokens\": 0,\n",
        "\"random_seed\": None,\n",
        "\"repetition_penalty\": 1.0,\n",
        "\"stopping_criteria\": \"length (256 tokens)\",\n",
        "\"stopping_sequence\": None\n",
        "}\n",
        "\n",
        "# Defined refined prompt\n",
        "refined_prompt = f\"\"\":\n",
        "Classify these reviews as positive, negative, or mixed, and tag\n",
        "relevant focus areas such as performance,service,transfer feature or transaction\n",
        "{'itanium/livin-by-mandiri-app-reviews'}\n",
        "\"\"\"\n",
        "# Invoke the model\n",
        "response = output.invoke(refined_prompt, parameters=parameters)\n",
        "# Print the response\n",
        "print(\"Granite Model Refined Response:\\n\")\n",
        "print(response)\n"
      ],
      "metadata": {
        "colab": {
          "base_uri": "https://localhost:8080/"
        },
        "id": "XWcgqxK_4vES",
        "outputId": "3c1bbe72-2240-437c-fc8b-a8633ca22d4b"
      },
      "execution_count": 25,
      "outputs": [
        {
          "output_type": "stream",
          "name": "stdout",
          "text": [
            "Granite Model Refined Response:\n",
            "\n",
            "I'm unable to directly access external databases or websites, including the \"itanium/livin-by-mandiri-app-reviews\" page, to provide specific review classifications and tags. However, I can guide you on how to classify reviews and identify relevant focus areas based on general review content. Here's a step-by-step process:\n",
            "\n",
            "1. Read each review carefully to understand the user's sentiment.\n",
            "2. Classify the review as positive, negative, or mixed based on the overall sentiment.\n",
            "   - Positive: The user expresses satisfaction, appreciation, or praise for the app.\n",
            "   - Negative: The user expresses dissatisfaction, frustration, or criticism of the app.\n",
            "   - Mixed: The review contains both positive and negative aspects, indicating a neutral to slightly positive or negative overall sentiment.\n",
            "3. Identify relevant focus areas by looking for specific keywords or phrases that indicate which features or aspects of the app the user is discussing. Common focus areas include:\n",
            "   - Performance: Speed, responsiveness, stability, and overall functionality.\n",
            "   - Service: Customer support, account management, or other user assistance.\n",
            "   - Transfer features: Money transfer, fund withdrawal, or other financial transactions within the app.\n",
            "   - User interface (UI) and user experience (UX): Ease of navigation, design, and overall usability.\n",
            "   - Security: Data protection, authentication, and transaction safety.\n",
            "\n",
            "Here's an example of how to apply this process:\n",
            "\n",
            "**Review 1:** \"I love the Livin' by Mandiri app! It's fast, secure, and makes transferring money a breeze. The customer service is top-notch, and I've never had an issue. 5/5 stars!\"\n",
            "\n",
            "- Classification: Positive\n",
            "- Relevant focus areas: Performance (fast), Security (secure), Transfer feature (transferring money), Service (customer support)\n",
            "\n",
            "**Review 2:** \"The Livin' by Mandiri app is a nightmare! It constantly crashes, and the interface is confusing. I can't even complete a simple transfer without getting frustrated. I've lost trust in their security after reading about recent data breaches. 1/5 stars.\"\n",
            "\n",
            "- Classification: Negative\n",
            "- Relevant focus areas: Performance (crashes), User Interface/User Experience (confusing), Transfer feature (incomplete transfers), Security (data bre\n"
          ]
        }
      ]
    },
    {
      "cell_type": "code",
      "source": [],
      "metadata": {
        "id": "ubidhc7s45UO"
      },
      "execution_count": null,
      "outputs": []
    }
  ]
}